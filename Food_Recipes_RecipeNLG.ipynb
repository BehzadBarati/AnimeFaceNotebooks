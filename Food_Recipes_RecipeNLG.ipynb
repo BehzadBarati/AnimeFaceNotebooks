{
  "nbformat": 4,
  "nbformat_minor": 0,
  "metadata": {
    "colab": {
      "name": "Food-Recipes-RecipeNLG.ipynb",
      "provenance": [],
      "collapsed_sections": [
        "YXzM9Guw8Wc4",
        "6evCQCIT6FhU",
        "ahurEDptAC1n"
      ],
      "authorship_tag": "ABX9TyPEJqlWHW+OFm35Sfim9dtW",
      "include_colab_link": true
    },
    "kernelspec": {
      "name": "python3",
      "display_name": "Python 3"
    }
  },
  "cells": [
    {
      "cell_type": "markdown",
      "metadata": {
        "id": "view-in-github",
        "colab_type": "text"
      },
      "source": [
        "<a href=\"https://colab.research.google.com/github/BehzadBarati/AnimeFaceNotebooks/blob/master/Food_Recipes_RecipeNLG.ipynb\" target=\"_parent\"><img src=\"https://colab.research.google.com/assets/colab-badge.svg\" alt=\"Open In Colab\"/></a>"
      ]
    },
    {
      "cell_type": "markdown",
      "metadata": {
        "id": "y6B3Wlv8vOZq"
      },
      "source": [
        "Abstract:\r\n",
        "\r\n",
        "This notebook produces elementary reports on RecipeNLG dataset which contains more than 2 million recipies of foods.\r\n",
        "___\r\n",
        "Source:\r\n",
        "\r\n",
        "My main refrences are [RecipeNLG paper](https://www.aclweb.org/anthology/2020.inlg-1.4.pdf) and its [dataset](https://recipenlg.cs.put.poznan.pl).\r\n",
        "___\r\n",
        "Input: \r\n",
        "\r\n",
        "1- Dataset of [RecipeNLG](https://recipenlg.cs.put.poznan.pl)\r\n",
        "\r\n",
        "Ouput:\r\n",
        "\r\n",
        "1- EDA report on RecipeNLG dataset (both inline and \"EDA-Report-RecipeNLG.html\" file)\r\n",
        "\r\n",
        "2- word cloud pictures (inline)\r\n",
        "\r\n",
        "3- list of source websites of recipies ( \"Websites-RecipeNLG.csv\" file)\r\n",
        "___\r\n",
        "Hints:\r\n",
        "\r\n",
        "1_ As our csv file is greater than 2 gigabytes, I prefer to use cloud services(here google colab). I uploaded RecipeNLG dataset in my [google drive](https://drive.google.com/drive/folders/1g1ZNYKlLN4hyP8ywHXWa2Iu1oQ4wxSgR?usp=sharing). It is public.\r\n",
        "\r\n",
        "2_ If there is out of memory error in running \"ProfileReport\", please first re-install latest version of \"pandas_profiling\" library, then try \"minimal=True\" argument in \"profileReport\" for eliminating some calculations. (pip install https://github.com/pandas-profiling/pandas-profiling/archive/master.zip)"
      ]
    },
    {
      "cell_type": "markdown",
      "metadata": {
        "id": "YXzM9Guw8Wc4"
      },
      "source": [
        "# Import needed libraries"
      ]
    },
    {
      "cell_type": "code",
      "metadata": {
        "id": "Cwg3EmTR8brJ"
      },
      "source": [
        "# Install pandas_profiling library\r\n",
        "# pip install https://github.com/pandas-profiling/pandas-profiling/archive/master.zip\r\n",
        "\r\n",
        "import numpy as np\r\n",
        "import pandas as pd \r\n",
        "from wordcloud import WordCloud             # Make wordcloud pictures\r\n",
        "from pandas_profiling import ProfileReport  # Generate brief report on our dataframe\r\n",
        "import matplotlib.pyplot as plt\r\n",
        "from google.colab import drive              # Mount google drive to colab notebook\r\n",
        "import ast                                  # Convert string to list\r\n",
        "import re                                   "
      ],
      "execution_count": 1,
      "outputs": []
    },
    {
      "cell_type": "markdown",
      "metadata": {
        "id": "6evCQCIT6FhU"
      },
      "source": [
        "# Load data"
      ]
    },
    {
      "cell_type": "code",
      "metadata": {
        "id": "ytrTiQikvjZP",
        "colab": {
          "base_uri": "https://localhost:8080/"
        },
        "outputId": "ac3d74ca-eec7-42d7-b05f-e11937f20bfe"
      },
      "source": [
        "# Mount google drive to colab notebook\r\n",
        "# Our dataset will be read as recipe_table.\r\n",
        "\r\n",
        "drive.mount('/content/gdrive', force_remount=True)"
      ],
      "execution_count": 2,
      "outputs": [
        {
          "output_type": "stream",
          "text": [
            "Mounted at /content/gdrive\n"
          ],
          "name": "stdout"
        }
      ]
    },
    {
      "cell_type": "code",
      "metadata": {
        "colab": {
          "base_uri": "https://localhost:8080/"
        },
        "id": "P4H_UOfNZTmO",
        "outputId": "83f5c8a8-e67c-4973-8bdd-5f77bddff0bc"
      },
      "source": [
        "cd gdrive/MyDrive/Projects/Ingredient-Maps/Phase1"
      ],
      "execution_count": 3,
      "outputs": [
        {
          "output_type": "stream",
          "text": [
            "/content/gdrive/MyDrive/Projects/Ingredient-Maps/Phase1\n"
          ],
          "name": "stdout"
        }
      ]
    },
    {
      "cell_type": "code",
      "metadata": {
        "colab": {
          "base_uri": "https://localhost:8080/",
          "height": 0
        },
        "id": "MsBjy_B17HEl",
        "outputId": "5b402ec0-13d2-4a66-b72a-70804cba28ac"
      },
      "source": [
        "# Reading file and check if data is loaded\r\n",
        "\r\n",
        "recipe_table = pd.read_csv('./dataset/RecipeNLG.csv')\r\n",
        "print('Number of recipes in dataset: ', len(recipe_table))\r\n",
        "print('last 5 recipes:')\r\n",
        "recipe_table.tail(5)"
      ],
      "execution_count": 4,
      "outputs": [
        {
          "output_type": "stream",
          "text": [
            "Number of recipes in dataset:  2231142\n",
            "last 5 recipes:\n"
          ],
          "name": "stdout"
        },
        {
          "output_type": "execute_result",
          "data": {
            "text/html": [
              "<div>\n",
              "<style scoped>\n",
              "    .dataframe tbody tr th:only-of-type {\n",
              "        vertical-align: middle;\n",
              "    }\n",
              "\n",
              "    .dataframe tbody tr th {\n",
              "        vertical-align: top;\n",
              "    }\n",
              "\n",
              "    .dataframe thead th {\n",
              "        text-align: right;\n",
              "    }\n",
              "</style>\n",
              "<table border=\"1\" class=\"dataframe\">\n",
              "  <thead>\n",
              "    <tr style=\"text-align: right;\">\n",
              "      <th></th>\n",
              "      <th>Unnamed: 0</th>\n",
              "      <th>title</th>\n",
              "      <th>ingredients</th>\n",
              "      <th>directions</th>\n",
              "      <th>link</th>\n",
              "      <th>source</th>\n",
              "      <th>NER</th>\n",
              "    </tr>\n",
              "  </thead>\n",
              "  <tbody>\n",
              "    <tr>\n",
              "      <th>2231137</th>\n",
              "      <td>2231137</td>\n",
              "      <td>Sunny's Fake Crepes</td>\n",
              "      <td>[\"1/2 cup chocolate hazelnut spread (recommend...</td>\n",
              "      <td>[\"Spread hazelnut spread on 1 side of each tor...</td>\n",
              "      <td>www.foodnetwork.com/recipes/sunny-anderson/sun...</td>\n",
              "      <td>Recipes1M</td>\n",
              "      <td>[\"chocolate hazelnut spread\", \"tortillas\", \"bu...</td>\n",
              "    </tr>\n",
              "    <tr>\n",
              "      <th>2231138</th>\n",
              "      <td>2231138</td>\n",
              "      <td>Devil Eggs</td>\n",
              "      <td>[\"1 dozen eggs\", \"1 paprika\", \"1 salt and pepp...</td>\n",
              "      <td>[\"Boil eggs on medium for 30mins.\", \"Then cool...</td>\n",
              "      <td>cookpad.com/us/recipes/355411-devil-eggs</td>\n",
              "      <td>Recipes1M</td>\n",
              "      <td>[\"eggs\", \"paprika\", \"salt\", \"choice\", \"miracle...</td>\n",
              "    </tr>\n",
              "    <tr>\n",
              "      <th>2231139</th>\n",
              "      <td>2231139</td>\n",
              "      <td>Extremely Easy and Quick - Namul Daikon Salad</td>\n",
              "      <td>[\"150 grams Daikon radish\", \"1 tbsp Sesame oil...</td>\n",
              "      <td>[\"Julienne the daikon and squeeze out the exce...</td>\n",
              "      <td>cookpad.com/us/recipes/153324-extremely-easy-a...</td>\n",
              "      <td>Recipes1M</td>\n",
              "      <td>[\"radish\", \"Sesame oil\", \"White sesame seeds\",...</td>\n",
              "    </tr>\n",
              "    <tr>\n",
              "      <th>2231140</th>\n",
              "      <td>2231140</td>\n",
              "      <td>Pan-Roasted Pork Chops With Apple Fritters</td>\n",
              "      <td>[\"1 cup apple cider\", \"6 tablespoons sugar\", \"...</td>\n",
              "      <td>[\"In a large bowl, mix the apple cider with 4 ...</td>\n",
              "      <td>cooking.nytimes.com/recipes/1015164</td>\n",
              "      <td>Recipes1M</td>\n",
              "      <td>[\"apple cider\", \"sugar\", \"kosher salt\", \"bay l...</td>\n",
              "    </tr>\n",
              "    <tr>\n",
              "      <th>2231141</th>\n",
              "      <td>2231141</td>\n",
              "      <td>Polpette in Spicy Tomato Sauce</td>\n",
              "      <td>[\"1 pound ground veal\", \"1/2 pound sweet Itali...</td>\n",
              "      <td>[\"Preheat the oven to 350.\", \"In a bowl, mix t...</td>\n",
              "      <td>www.foodandwine.com/recipes/polpette-spicy-tom...</td>\n",
              "      <td>Recipes1M</td>\n",
              "      <td>[\"ground veal\", \"sausage\", \"bread crumbs\", \"mi...</td>\n",
              "    </tr>\n",
              "  </tbody>\n",
              "</table>\n",
              "</div>"
            ],
            "text/plain": [
              "         Unnamed: 0  ...                                                NER\n",
              "2231137     2231137  ...  [\"chocolate hazelnut spread\", \"tortillas\", \"bu...\n",
              "2231138     2231138  ...  [\"eggs\", \"paprika\", \"salt\", \"choice\", \"miracle...\n",
              "2231139     2231139  ...  [\"radish\", \"Sesame oil\", \"White sesame seeds\",...\n",
              "2231140     2231140  ...  [\"apple cider\", \"sugar\", \"kosher salt\", \"bay l...\n",
              "2231141     2231141  ...  [\"ground veal\", \"sausage\", \"bread crumbs\", \"mi...\n",
              "\n",
              "[5 rows x 7 columns]"
            ]
          },
          "metadata": {
            "tags": []
          },
          "execution_count": 4
        }
      ]
    },
    {
      "cell_type": "markdown",
      "metadata": {
        "id": "ahurEDptAC1n"
      },
      "source": [
        "# EDA (Exploratory Data Analysis)\r\n",
        "I dont want to generate report every time I run it, so EDA, world cloud and website list cells are muted."
      ]
    },
    {
      "cell_type": "code",
      "metadata": {
        "colab": {
          "base_uri": "https://localhost:8080/"
        },
        "id": "zqrcZV_3AJin",
        "outputId": "9dd3107e-f38e-4905-aeab-ab09b31037f1"
      },
      "source": [
        "'''\r\n",
        "# Column 'Unnamed: 0' seems to be useless for EDA section,so I drop it for making our dataset smaller.\r\n",
        "\r\n",
        "recipe_table.drop('Unnamed: 0', axis='columns', inplace=True)\r\n",
        "'''"
      ],
      "execution_count": null,
      "outputs": [
        {
          "output_type": "execute_result",
          "data": {
            "application/vnd.google.colaboratory.intrinsic+json": {
              "type": "string"
            },
            "text/plain": [
              "\"\\n# Column 'Unnamed: 0' seems to be useless for EDA section,so I drop it for making our dataset smaller.\\n\\nrecipe_table.drop('Unnamed: 0', axis='columns', inplace=True)\\n\""
            ]
          },
          "metadata": {
            "tags": []
          },
          "execution_count": 5
        }
      ]
    },
    {
      "cell_type": "code",
      "metadata": {
        "id": "ICR4QpAJBqV5",
        "colab": {
          "base_uri": "https://localhost:8080/"
        },
        "outputId": "198fbd29-8f3d-48c1-c4f5-e3393b81f019"
      },
      "source": [
        "'''\r\n",
        "# Generate a quick report from our dataset \r\n",
        "\r\n",
        "profile = ProfileReport(recipe_table, minimal=True)\r\n",
        "profile.to_file(\"EDA-Report-RecipeNLG.html\")\r\n",
        "profile\r\n",
        "'''"
      ],
      "execution_count": null,
      "outputs": [
        {
          "output_type": "execute_result",
          "data": {
            "application/vnd.google.colaboratory.intrinsic+json": {
              "type": "string"
            },
            "text/plain": [
              "'\\n# Generate a quick report from our dataset \\n\\nprofile = ProfileReport(recipe_table, minimal=True)\\nprofile.to_file(\"EDA-Report-RecipeNLG.html\")\\nprofile\\n'"
            ]
          },
          "metadata": {
            "tags": []
          },
          "execution_count": 6
        }
      ]
    },
    {
      "cell_type": "markdown",
      "metadata": {
        "id": "83uYFQwBMxQe"
      },
      "source": [
        "## World clouds"
      ]
    },
    {
      "cell_type": "code",
      "metadata": {
        "id": "lnUMBM5zGig0",
        "colab": {
          "base_uri": "https://localhost:8080/"
        },
        "outputId": "561d4fe4-4c5e-4a4b-da76-1243dbe858d6"
      },
      "source": [
        "'''\r\n",
        "# For creating word clouds, I used WordCloud library which was imported before.\r\n",
        "\r\n",
        "def minimal_wordcloud(df, column):\r\n",
        "    \"\"\"\r\n",
        "    Generate a simple wordcloud similar to: \r\n",
        "    https://www.kaggle.com/paultimothymooney/explore-recipe-nlg-dataset/data.\r\n",
        "    The only import required is: from wordcloud import WordCloud\r\n",
        "    \"\"\"\r\n",
        "    text = str(df[column].values)\r\n",
        "    wordcloud = WordCloud().generate(text)\r\n",
        "    image = wordcloud.to_image()\r\n",
        "    plt.axis(\"off\")\r\n",
        "    plt.imshow(image)\r\n",
        "    plt.show()\r\n",
        "'''"
      ],
      "execution_count": null,
      "outputs": [
        {
          "output_type": "execute_result",
          "data": {
            "application/vnd.google.colaboratory.intrinsic+json": {
              "type": "string"
            },
            "text/plain": [
              "'\\n# For creating word clouds, I used WordCloud library which was imported before.\\n\\ndef minimal_wordcloud(df, column):\\n    \"\"\"\\n    Generate a simple wordcloud similar to: \\n    https://www.kaggle.com/paultimothymooney/explore-recipe-nlg-dataset/data.\\n    The only import required is: from wordcloud import WordCloud\\n    \"\"\"\\n    text = str(df[column].values)\\n    wordcloud = WordCloud().generate(text)\\n    image = wordcloud.to_image()\\n    plt.axis(\"off\")\\n    plt.imshow(image)\\n    plt.show()\\n'"
            ]
          },
          "metadata": {
            "tags": []
          },
          "execution_count": 7
        }
      ]
    },
    {
      "cell_type": "code",
      "metadata": {
        "colab": {
          "base_uri": "https://localhost:8080/"
        },
        "id": "txxpFbMVf8bt",
        "outputId": "d5ff7145-508f-4d7a-a0fe-1ff6a7513af6"
      },
      "source": [
        "'''\r\n",
        "# Print word clouds\r\n",
        "\r\n",
        "for c in recipe_table.columns:\r\n",
        "    print('\\nworld cloud of contents in column {}'.format(c))\r\n",
        "    minimal_wordcloud(recipe_table, c)\r\n",
        "'''"
      ],
      "execution_count": null,
      "outputs": [
        {
          "output_type": "execute_result",
          "data": {
            "application/vnd.google.colaboratory.intrinsic+json": {
              "type": "string"
            },
            "text/plain": [
              "\"\\n# Print word clouds\\n\\nfor c in recipe_table.columns:\\n    print('\\nworld cloud of contents in column {}'.format(c))\\n    minimal_wordcloud(recipe_table, c)\\n\""
            ]
          },
          "metadata": {
            "tags": []
          },
          "execution_count": 8
        }
      ]
    },
    {
      "cell_type": "markdown",
      "metadata": {
        "id": "roI52c75nFkn"
      },
      "source": [
        "## list of websites in RecipieNLG"
      ]
    },
    {
      "cell_type": "code",
      "metadata": {
        "id": "XtCQc_OLnOrY",
        "colab": {
          "base_uri": "https://localhost:8080/"
        },
        "outputId": "3ed201ed-21a1-431e-f276-b31655f700e1"
      },
      "source": [
        "'''\r\n",
        "# Based on link column I tried to extract website names.\r\n",
        "# This func helps to select website names where we do not have 'www' at beginning\r\n",
        "\r\n",
        "func = lambda x: x[1] if x[0] == 'www' else x[0]\r\n",
        "recipe_table['website'] = recipe_table['link'].str.split('.').apply(func)\r\n",
        "'''"
      ],
      "execution_count": null,
      "outputs": [
        {
          "output_type": "execute_result",
          "data": {
            "application/vnd.google.colaboratory.intrinsic+json": {
              "type": "string"
            },
            "text/plain": [
              "\"\\n# Based on link column I tried to extract website names.\\n# This func helps to select website names where we do not have 'www' at beginning\\n\\nfunc = lambda x: x[1] if x[0] == 'www' else x[0]\\nrecipe_table['website'] = recipe_table['link'].str.split('.').apply(func)\\n\""
            ]
          },
          "metadata": {
            "tags": []
          },
          "execution_count": 9
        }
      ]
    },
    {
      "cell_type": "code",
      "metadata": {
        "id": "Qr3xIouJqaav",
        "colab": {
          "base_uri": "https://localhost:8080/"
        },
        "outputId": "efe5956b-c702-4b7b-b3cc-7522ed68646d"
      },
      "source": [
        "'''\r\n",
        "recipe_table['website'].value_counts().rename_axis('websites').to_csv('./reports/Websites-RecipeNLG.csv',  header=['No. of recipies'])\r\n",
        "recipe_table['website'].value_counts().rename_axis('websites')\r\n",
        "'''"
      ],
      "execution_count": null,
      "outputs": [
        {
          "output_type": "execute_result",
          "data": {
            "application/vnd.google.colaboratory.intrinsic+json": {
              "type": "string"
            },
            "text/plain": [
              "\"\\nrecipe_table['website'].value_counts().rename_axis('websites').to_csv('./reports/Websites-RecipeNLG.csv',  header=['No. of recipies'])\\nrecipe_table['website'].value_counts().rename_axis('websites')\\n\""
            ]
          },
          "metadata": {
            "tags": []
          },
          "execution_count": 10
        }
      ]
    },
    {
      "cell_type": "markdown",
      "metadata": {
        "id": "Lpf2rTSTM_Bh"
      },
      "source": [
        "# Convert to SQL tables"
      ]
    },
    {
      "cell_type": "markdown",
      "metadata": {
        "id": "qi2cv6u5NMcd"
      },
      "source": [
        "## Preprocessing\r\n",
        "set key for recipe_table. then normalize NER values\r\n"
      ]
    },
    {
      "cell_type": "markdown",
      "metadata": {
        "id": "0Z_bH5PMNyC-"
      },
      "source": [
        "Since there are meals who have more than one recipe, we can use index of main table as recipe_IDs.   "
      ]
    },
    {
      "cell_type": "code",
      "metadata": {
        "id": "Qz_HQXkKNKgS"
      },
      "source": [
        "# rename 'Unnamed' column and set recipe_ID convention\r\n",
        "\r\n",
        "recipe_table.columns = recipe_table.columns.str.replace('Unnamed: 0','recipe_ID')\r\n",
        "recipe_table['recipe_ID'] = \"Rec\" + recipe_table['recipe_ID'].astype(str)"
      ],
      "execution_count": 5,
      "outputs": []
    },
    {
      "cell_type": "code",
      "metadata": {
        "id": "Nh5L7uANDHJN"
      },
      "source": [
        "# remove qoutations, remove [] characters, and \n",
        "recipe_table['NER'] = recipe_table['NER'].str.replace('\"', '')\n",
        "recipe_table['NER'] = recipe_table['NER'].str.casefold()\n",
        "recipe_table['NER'] = recipe_table['NER'].str[1:-1]\n",
        "recipe_table['NER'] = recipe_table['NER'].str.split(',')"
      ],
      "execution_count": 6,
      "outputs": []
    },
    {
      "cell_type": "code",
      "metadata": {
        "colab": {
          "base_uri": "https://localhost:8080/",
          "height": 35
        },
        "id": "qQ3c0KHlOFcy",
        "outputId": "b411e1f2-a5ac-41c3-cb57-6732f8ddfe67"
      },
      "source": [
        "# s = recipe_table['NER'][62719][5]\r\n",
        "# s = re.sub('[\\(){}<>]c', '', s)\r\n",
        "# s"
      ],
      "execution_count": 21,
      "outputs": [
        {
          "output_type": "execute_result",
          "data": {
            "application/vnd.google.colaboratory.intrinsic+json": {
              "type": "string"
            },
            "text/plain": [
              "'NER14002'"
            ]
          },
          "metadata": {
            "tags": []
          },
          "execution_count": 21
        }
      ]
    },
    {
      "cell_type": "code",
      "metadata": {
        "colab": {
          "base_uri": "https://localhost:8080/",
          "height": 198
        },
        "id": "pRntrm0NMPf6",
        "outputId": "60ac8027-fdde-424e-ee91-74c11262f185"
      },
      "source": [
        "recipe_table.head()"
      ],
      "execution_count": 7,
      "outputs": [
        {
          "output_type": "execute_result",
          "data": {
            "text/html": [
              "<div>\n",
              "<style scoped>\n",
              "    .dataframe tbody tr th:only-of-type {\n",
              "        vertical-align: middle;\n",
              "    }\n",
              "\n",
              "    .dataframe tbody tr th {\n",
              "        vertical-align: top;\n",
              "    }\n",
              "\n",
              "    .dataframe thead th {\n",
              "        text-align: right;\n",
              "    }\n",
              "</style>\n",
              "<table border=\"1\" class=\"dataframe\">\n",
              "  <thead>\n",
              "    <tr style=\"text-align: right;\">\n",
              "      <th></th>\n",
              "      <th>recipe_ID</th>\n",
              "      <th>title</th>\n",
              "      <th>ingredients</th>\n",
              "      <th>directions</th>\n",
              "      <th>link</th>\n",
              "      <th>source</th>\n",
              "      <th>NER</th>\n",
              "    </tr>\n",
              "  </thead>\n",
              "  <tbody>\n",
              "    <tr>\n",
              "      <th>0</th>\n",
              "      <td>Rec0</td>\n",
              "      <td>No-Bake Nut Cookies</td>\n",
              "      <td>[\"1 c. firmly packed brown sugar\", \"1/2 c. eva...</td>\n",
              "      <td>[\"In a heavy 2-quart saucepan, mix brown sugar...</td>\n",
              "      <td>www.cookbooks.com/Recipe-Details.aspx?id=44874</td>\n",
              "      <td>Gathered</td>\n",
              "      <td>[brown sugar,  milk,  vanilla,  nuts,  butter,...</td>\n",
              "    </tr>\n",
              "    <tr>\n",
              "      <th>1</th>\n",
              "      <td>Rec1</td>\n",
              "      <td>Jewell Ball'S Chicken</td>\n",
              "      <td>[\"1 small jar chipped beef, cut up\", \"4 boned ...</td>\n",
              "      <td>[\"Place chipped beef on bottom of baking dish....</td>\n",
              "      <td>www.cookbooks.com/Recipe-Details.aspx?id=699419</td>\n",
              "      <td>Gathered</td>\n",
              "      <td>[beef,  chicken breasts,  cream of mushroom so...</td>\n",
              "    </tr>\n",
              "    <tr>\n",
              "      <th>2</th>\n",
              "      <td>Rec2</td>\n",
              "      <td>Creamy Corn</td>\n",
              "      <td>[\"2 (16 oz.) pkg. frozen corn\", \"1 (8 oz.) pkg...</td>\n",
              "      <td>[\"In a slow cooker, combine all ingredients. C...</td>\n",
              "      <td>www.cookbooks.com/Recipe-Details.aspx?id=10570</td>\n",
              "      <td>Gathered</td>\n",
              "      <td>[frozen corn,  cream cheese,  butter,  garlic ...</td>\n",
              "    </tr>\n",
              "    <tr>\n",
              "      <th>3</th>\n",
              "      <td>Rec3</td>\n",
              "      <td>Chicken Funny</td>\n",
              "      <td>[\"1 large whole chicken\", \"2 (10 1/2 oz.) cans...</td>\n",
              "      <td>[\"Boil and debone chicken.\", \"Put bite size pi...</td>\n",
              "      <td>www.cookbooks.com/Recipe-Details.aspx?id=897570</td>\n",
              "      <td>Gathered</td>\n",
              "      <td>[chicken,  chicken gravy,  cream of mushroom s...</td>\n",
              "    </tr>\n",
              "    <tr>\n",
              "      <th>4</th>\n",
              "      <td>Rec4</td>\n",
              "      <td>Reeses Cups(Candy)</td>\n",
              "      <td>[\"1 c. peanut butter\", \"3/4 c. graham cracker ...</td>\n",
              "      <td>[\"Combine first four ingredients and press in ...</td>\n",
              "      <td>www.cookbooks.com/Recipe-Details.aspx?id=659239</td>\n",
              "      <td>Gathered</td>\n",
              "      <td>[peanut butter,  graham cracker crumbs,  butte...</td>\n",
              "    </tr>\n",
              "  </tbody>\n",
              "</table>\n",
              "</div>"
            ],
            "text/plain": [
              "  recipe_ID  ...                                                NER\n",
              "0      Rec0  ...  [brown sugar,  milk,  vanilla,  nuts,  butter,...\n",
              "1      Rec1  ...  [beef,  chicken breasts,  cream of mushroom so...\n",
              "2      Rec2  ...  [frozen corn,  cream cheese,  butter,  garlic ...\n",
              "3      Rec3  ...  [chicken,  chicken gravy,  cream of mushroom s...\n",
              "4      Rec4  ...  [peanut butter,  graham cracker crumbs,  butte...\n",
              "\n",
              "[5 rows x 7 columns]"
            ]
          },
          "metadata": {
            "tags": []
          },
          "execution_count": 7
        }
      ]
    },
    {
      "cell_type": "code",
      "metadata": {
        "id": "evHbhpqsqN-w"
      },
      "source": [
        "# this function can be used to transfer str to list like NER column. but here is not handy.\r\n",
        "'''\r\n",
        "# values of NER column are stored as string. so we convert them to lists\r\n",
        "\r\n",
        "ast_func = lambda a: ast.literal_eval(a)\r\n",
        "recipe_table['NERtemp'] = recipe_table['NERtemp'].map(ast_func)\r\n",
        "'''"
      ],
      "execution_count": null,
      "outputs": []
    },
    {
      "cell_type": "code",
      "metadata": {
        "id": "l_czlzebpUpS"
      },
      "source": [
        "# trim qoutation marks from NER values and use .casefold() for less case sensivity\r\n",
        "\r\n",
        "#recipe_table['NER2'] = recipe_table['NER'].str.casefold()"
      ],
      "execution_count": null,
      "outputs": []
    },
    {
      "cell_type": "code",
      "metadata": {
        "id": "G1mCdA_f4fcC"
      },
      "source": [
        "#recipe_table['NER'].map(lambda x: list(map(str.lower, x)))"
      ],
      "execution_count": null,
      "outputs": []
    },
    {
      "cell_type": "code",
      "metadata": {
        "id": "RxaEF1mktb8C"
      },
      "source": [
        "# recipe_table['NER2'] = recipe_table['NER'].str.replace('\"', '')\n",
        "# recipe_table['NER'] = recipe_table['NER'].str.split(',')\n",
        "# recipe_table['NER'] = recipe_table['NER'].str[1:-1]"
      ],
      "execution_count": null,
      "outputs": []
    },
    {
      "cell_type": "markdown",
      "metadata": {
        "id": "KWXCzQlhW2MN"
      },
      "source": [
        "## NER_table"
      ]
    },
    {
      "cell_type": "code",
      "metadata": {
        "id": "UGvgp6DfWfPB"
      },
      "source": [
        "# create NER_table and add NER_ID column\r\n",
        "\r\n",
        "NER_table = pd.DataFrame(recipe_table['NER'].explode().unique(), columns=['NER'])\r\n",
        "NER_table['NER_ID'] =  ['NER'+str(i) for i in range(len(NER_table['NER']))]"
      ],
      "execution_count": 8,
      "outputs": []
    },
    {
      "cell_type": "code",
      "metadata": {
        "id": "N5wr3iFq1zTl"
      },
      "source": [
        "# set index to NER and make a dictionary out of df\r\n",
        "\r\n",
        "NER_table.set_index(['NER'], inplace=True)"
      ],
      "execution_count": 9,
      "outputs": []
    },
    {
      "cell_type": "code",
      "metadata": {
        "id": "kd8LwruX-yd-"
      },
      "source": [
        "# by help of conv dictionary, we replace names in recipe_table['NER'] with IDs\n",
        "\n",
        "conv = NER_table.to_dict('dict')\n",
        "recipe_table['NER'] = recipe_table['NER'].apply(lambda row: [conv['NER_ID'][v] for v in row if conv['NER_ID'].get(v)])"
      ],
      "execution_count": 10,
      "outputs": []
    },
    {
      "cell_type": "code",
      "metadata": {
        "id": "maFm8OEFFGpr"
      },
      "source": [
        "# add a column to keep recipe_IDs\r\n",
        "\r\n",
        "NER_table['recipe_ID'] = np.empty((len(NER_table), 0)).tolist()\r\n",
        "NER_table = NER_table.reset_index().set_index('NER_ID')"
      ],
      "execution_count": 11,
      "outputs": []
    },
    {
      "cell_type": "code",
      "metadata": {
        "id": "wgan_tjV-1uG"
      },
      "source": [
        "# we fill recipe_ID column to NER_table contains all recipe_IDs used NER in. (~ 5 minutes in colab)\r\n",
        "\r\n",
        "for k in range(len(recipe_table)):\r\n",
        "    for m in recipe_table['NER'][k]:\r\n",
        "        NER_table['recipe_ID'][m].append(recipe_table['recipe_ID'][k])"
      ],
      "execution_count": 12,
      "outputs": []
    },
    {
      "cell_type": "code",
      "metadata": {
        "id": "1MOYH8XTfyYY"
      },
      "source": [
        "# this is another approach to fill recipe_ID column in NER_table. but this is slow. (~ 1600 hours for this problem)\r\n",
        "'''\r\n",
        "NER_table['recipe_ID'] = np.empty((len(NER_table), 0)).tolist()\r\n",
        "for i in range(len(NER_table)):\r\n",
        "    t0= time.clock()\r\n",
        "    for j in range(len(recipe_table)):\r\n",
        "        if NER_table['NER_ID'][i] in recipe_table['NER'][j]:\r\n",
        "           NER_table['recipe_ID'][i].append(recipe_table['recipe_ID'][j])\r\n",
        "    print(time.clock() - t0)\r\n",
        "'''"
      ],
      "execution_count": null,
      "outputs": []
    },
    {
      "cell_type": "code",
      "metadata": {
        "colab": {
          "base_uri": "https://localhost:8080/",
          "height": 228
        },
        "id": "cYqe0k4HHzcN",
        "outputId": "3b4fcd82-8b0d-4fab-98a7-3b576b9bef52"
      },
      "source": [
        "NER_table.head(5)"
      ],
      "execution_count": 13,
      "outputs": [
        {
          "output_type": "execute_result",
          "data": {
            "text/html": [
              "<div>\n",
              "<style scoped>\n",
              "    .dataframe tbody tr th:only-of-type {\n",
              "        vertical-align: middle;\n",
              "    }\n",
              "\n",
              "    .dataframe tbody tr th {\n",
              "        vertical-align: top;\n",
              "    }\n",
              "\n",
              "    .dataframe thead th {\n",
              "        text-align: right;\n",
              "    }\n",
              "</style>\n",
              "<table border=\"1\" class=\"dataframe\">\n",
              "  <thead>\n",
              "    <tr style=\"text-align: right;\">\n",
              "      <th></th>\n",
              "      <th>NER</th>\n",
              "      <th>recipe_ID</th>\n",
              "    </tr>\n",
              "    <tr>\n",
              "      <th>NER_ID</th>\n",
              "      <th></th>\n",
              "      <th></th>\n",
              "    </tr>\n",
              "  </thead>\n",
              "  <tbody>\n",
              "    <tr>\n",
              "      <th>NER0</th>\n",
              "      <td>brown sugar</td>\n",
              "      <td>[Rec0, Rec232, Rec321, Rec556, Rec613, Rec996,...</td>\n",
              "    </tr>\n",
              "    <tr>\n",
              "      <th>NER1</th>\n",
              "      <td>milk</td>\n",
              "      <td>[Rec0, Rec5, Rec41, Rec50, Rec69, Rec81, Rec86...</td>\n",
              "    </tr>\n",
              "    <tr>\n",
              "      <th>NER2</th>\n",
              "      <td>vanilla</td>\n",
              "      <td>[Rec0, Rec6, Rec27, Rec41, Rec48, Rec59, Rec60...</td>\n",
              "    </tr>\n",
              "    <tr>\n",
              "      <th>NER3</th>\n",
              "      <td>nuts</td>\n",
              "      <td>[Rec0, Rec19, Rec20, Rec27, Rec44, Rec61, Rec6...</td>\n",
              "    </tr>\n",
              "    <tr>\n",
              "      <th>NER4</th>\n",
              "      <td>butter</td>\n",
              "      <td>[Rec0, Rec2, Rec4, Rec5, Rec6, Rec7, Rec11, Re...</td>\n",
              "    </tr>\n",
              "  </tbody>\n",
              "</table>\n",
              "</div>"
            ],
            "text/plain": [
              "                NER                                          recipe_ID\n",
              "NER_ID                                                                \n",
              "NER0    brown sugar  [Rec0, Rec232, Rec321, Rec556, Rec613, Rec996,...\n",
              "NER1           milk  [Rec0, Rec5, Rec41, Rec50, Rec69, Rec81, Rec86...\n",
              "NER2        vanilla  [Rec0, Rec6, Rec27, Rec41, Rec48, Rec59, Rec60...\n",
              "NER3           nuts  [Rec0, Rec19, Rec20, Rec27, Rec44, Rec61, Rec6...\n",
              "NER4         butter  [Rec0, Rec2, Rec4, Rec5, Rec6, Rec7, Rec11, Re..."
            ]
          },
          "metadata": {
            "tags": []
          },
          "execution_count": 13
        }
      ]
    },
    {
      "cell_type": "code",
      "metadata": {
        "colab": {
          "base_uri": "https://localhost:8080/",
          "height": 437
        },
        "id": "On38K0P7c1-Q",
        "outputId": "f2d52d1b-6be5-4dea-9a0f-5321e8ae48bd"
      },
      "source": [
        "NER_table.sort_values(by=['NER'])"
      ],
      "execution_count": 16,
      "outputs": [
        {
          "output_type": "execute_result",
          "data": {
            "text/html": [
              "<div>\n",
              "<style scoped>\n",
              "    .dataframe tbody tr th:only-of-type {\n",
              "        vertical-align: middle;\n",
              "    }\n",
              "\n",
              "    .dataframe tbody tr th {\n",
              "        vertical-align: top;\n",
              "    }\n",
              "\n",
              "    .dataframe thead th {\n",
              "        text-align: right;\n",
              "    }\n",
              "</style>\n",
              "<table border=\"1\" class=\"dataframe\">\n",
              "  <thead>\n",
              "    <tr style=\"text-align: right;\">\n",
              "      <th></th>\n",
              "      <th>NER</th>\n",
              "      <th>recipe_ID</th>\n",
              "    </tr>\n",
              "    <tr>\n",
              "      <th>NER_ID</th>\n",
              "      <th></th>\n",
              "      <th></th>\n",
              "    </tr>\n",
              "  </thead>\n",
              "  <tbody>\n",
              "    <tr>\n",
              "      <th>NER1620</th>\n",
              "      <td></td>\n",
              "      <td>[Rec1448, Rec2547, Rec15584, Rec19473, Rec2524...</td>\n",
              "    </tr>\n",
              "    <tr>\n",
              "      <th>NER3489</th>\n",
              "      <td></td>\n",
              "      <td>[Rec5722, Rec64656, Rec68275, Rec169800, Rec18...</td>\n",
              "    </tr>\n",
              "    <tr>\n",
              "      <th>NER64432</th>\n",
              "      <td>#</td>\n",
              "      <td>[Rec871421, Rec1272942, Rec1286010, Rec1295460...</td>\n",
              "    </tr>\n",
              "    <tr>\n",
              "      <th>NER121053</th>\n",
              "      <td># - boneless flank</td>\n",
              "      <td>[Rec1326357]</td>\n",
              "    </tr>\n",
              "    <tr>\n",
              "      <th>NER125601</th>\n",
              "      <td># - ham</td>\n",
              "      <td>[Rec1344717]</td>\n",
              "    </tr>\n",
              "    <tr>\n",
              "      <th>...</th>\n",
              "      <td>...</td>\n",
              "      <td>...</td>\n",
              "    </tr>\n",
              "    <tr>\n",
              "      <th>NER31782</th>\n",
              "      <td>zwieback toast</td>\n",
              "      <td>[Rec257446, Rec913866, Rec936491, Rec939446, R...</td>\n",
              "    </tr>\n",
              "    <tr>\n",
              "      <th>NER199559</th>\n",
              "      <td>zwieback toasts</td>\n",
              "      <td>[Rec1871818]</td>\n",
              "    </tr>\n",
              "    <tr>\n",
              "      <th>NER36233</th>\n",
              "      <td>zwieback-style</td>\n",
              "      <td>[Rec322619]</td>\n",
              "    </tr>\n",
              "    <tr>\n",
              "      <th>NER117335</th>\n",
              "      <td>~for the crust</td>\n",
              "      <td>[Rec1311874]</td>\n",
              "    </tr>\n",
              "    <tr>\n",
              "      <th>NER129757</th>\n",
              "      <td>~paper</td>\n",
              "      <td>[Rec1362223]</td>\n",
              "    </tr>\n",
              "  </tbody>\n",
              "</table>\n",
              "<p>233620 rows × 2 columns</p>\n",
              "</div>"
            ],
            "text/plain": [
              "                           NER                                          recipe_ID\n",
              "NER_ID                                                                           \n",
              "NER1620                         [Rec1448, Rec2547, Rec15584, Rec19473, Rec2524...\n",
              "NER3489                         [Rec5722, Rec64656, Rec68275, Rec169800, Rec18...\n",
              "NER64432                     #  [Rec871421, Rec1272942, Rec1286010, Rec1295460...\n",
              "NER121053   # - boneless flank                                       [Rec1326357]\n",
              "NER125601              # - ham                                       [Rec1344717]\n",
              "...                        ...                                                ...\n",
              "NER31782        zwieback toast  [Rec257446, Rec913866, Rec936491, Rec939446, R...\n",
              "NER199559      zwieback toasts                                       [Rec1871818]\n",
              "NER36233        zwieback-style                                        [Rec322619]\n",
              "NER117335       ~for the crust                                       [Rec1311874]\n",
              "NER129757               ~paper                                       [Rec1362223]\n",
              "\n",
              "[233620 rows x 2 columns]"
            ]
          },
          "metadata": {
            "tags": []
          },
          "execution_count": 16
        }
      ]
    },
    {
      "cell_type": "code",
      "metadata": {
        "id": "ae78QhebkEDW"
      },
      "source": [
        ""
      ],
      "execution_count": null,
      "outputs": []
    },
    {
      "cell_type": "code",
      "metadata": {
        "colab": {
          "base_uri": "https://localhost:8080/"
        },
        "id": "-RoFz6jIlCY5",
        "outputId": "af232d6e-786f-4883-da10-732d8f09f9fa"
      },
      "source": [
        "recipe_table.loc[1448]['NER']"
      ],
      "execution_count": 22,
      "outputs": [
        {
          "output_type": "execute_result",
          "data": {
            "text/plain": [
              "['NER1620']"
            ]
          },
          "metadata": {
            "tags": []
          },
          "execution_count": 22
        }
      ]
    },
    {
      "cell_type": "code",
      "metadata": {
        "colab": {
          "base_uri": "https://localhost:8080/"
        },
        "id": "BX-789qe-2UD",
        "outputId": "666507f8-96d2-42b2-f124-79d4228ed925"
      },
      "source": [
        "recipe_table.loc[62719]"
      ],
      "execution_count": 15,
      "outputs": [
        {
          "output_type": "execute_result",
          "data": {
            "text/plain": [
              "recipe_ID                                               Rec62719\n",
              "title                                 Karen'S Turkey Pasta Stuff\n",
              "ingredients    [\"3/4 lb. turkey breast cutlets\", \"1 to 2 Tbsp...\n",
              "directions     [\"Cook the spaghetti as normal.\", \"Melt the ma...\n",
              "link             www.cookbooks.com/Recipe-Details.aspx?id=557648\n",
              "source                                                  Gathered\n",
              "NER            [NER3850, NER163, NER978, NER4158, NER174, NER...\n",
              "Name: 62719, dtype: object"
            ]
          },
          "metadata": {
            "tags": []
          },
          "execution_count": 15
        }
      ]
    }
  ]
}